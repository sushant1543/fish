{
 "cells": [
  {
   "cell_type": "code",
   "execution_count": 1,
   "id": "703f2e97",
   "metadata": {},
   "outputs": [],
   "source": [
    "import pandas as pd\n",
    "import numpy as np\n",
    "import warnings\n",
    "warnings.filterwarnings('ignore')\n",
    "\n",
    "from sklearn.model_selection import train_test_split\n",
    "from sklearn.linear_model import LinearRegression\n",
    "from sklearn.metrics import mean_absolute_error, mean_squared_error, r2_score\n",
    "from statsmodels.stats.outliers_influence import variance_inflation_factor\n",
    "from scipy.stats import shapiro, kstest, normaltest\n",
    "\n",
    "\n",
    "import seaborn as sns\n",
    "import matplotlib.pyplot as plt\n"
   ]
  },
  {
   "cell_type": "code",
   "execution_count": 2,
   "id": "4e03dcee",
   "metadata": {},
   "outputs": [
    {
     "data": {
      "text/html": [
       "<div>\n",
       "<style scoped>\n",
       "    .dataframe tbody tr th:only-of-type {\n",
       "        vertical-align: middle;\n",
       "    }\n",
       "\n",
       "    .dataframe tbody tr th {\n",
       "        vertical-align: top;\n",
       "    }\n",
       "\n",
       "    .dataframe thead th {\n",
       "        text-align: right;\n",
       "    }\n",
       "</style>\n",
       "<table border=\"1\" class=\"dataframe\">\n",
       "  <thead>\n",
       "    <tr style=\"text-align: right;\">\n",
       "      <th></th>\n",
       "      <th>Species</th>\n",
       "      <th>Weight</th>\n",
       "      <th>Length1</th>\n",
       "      <th>Length2</th>\n",
       "      <th>Length3</th>\n",
       "      <th>Height</th>\n",
       "      <th>Width</th>\n",
       "    </tr>\n",
       "  </thead>\n",
       "  <tbody>\n",
       "    <tr>\n",
       "      <th>0</th>\n",
       "      <td>Bream</td>\n",
       "      <td>242.0</td>\n",
       "      <td>23.2</td>\n",
       "      <td>25.4</td>\n",
       "      <td>30.0</td>\n",
       "      <td>11.5200</td>\n",
       "      <td>4.0200</td>\n",
       "    </tr>\n",
       "    <tr>\n",
       "      <th>1</th>\n",
       "      <td>Bream</td>\n",
       "      <td>290.0</td>\n",
       "      <td>24.0</td>\n",
       "      <td>26.3</td>\n",
       "      <td>31.2</td>\n",
       "      <td>12.4800</td>\n",
       "      <td>4.3056</td>\n",
       "    </tr>\n",
       "    <tr>\n",
       "      <th>2</th>\n",
       "      <td>Bream</td>\n",
       "      <td>340.0</td>\n",
       "      <td>23.9</td>\n",
       "      <td>26.5</td>\n",
       "      <td>31.1</td>\n",
       "      <td>12.3778</td>\n",
       "      <td>4.6961</td>\n",
       "    </tr>\n",
       "    <tr>\n",
       "      <th>3</th>\n",
       "      <td>Bream</td>\n",
       "      <td>363.0</td>\n",
       "      <td>26.3</td>\n",
       "      <td>29.0</td>\n",
       "      <td>33.5</td>\n",
       "      <td>12.7300</td>\n",
       "      <td>4.4555</td>\n",
       "    </tr>\n",
       "    <tr>\n",
       "      <th>4</th>\n",
       "      <td>Bream</td>\n",
       "      <td>430.0</td>\n",
       "      <td>26.5</td>\n",
       "      <td>29.0</td>\n",
       "      <td>34.0</td>\n",
       "      <td>12.4440</td>\n",
       "      <td>5.1340</td>\n",
       "    </tr>\n",
       "    <tr>\n",
       "      <th>...</th>\n",
       "      <td>...</td>\n",
       "      <td>...</td>\n",
       "      <td>...</td>\n",
       "      <td>...</td>\n",
       "      <td>...</td>\n",
       "      <td>...</td>\n",
       "      <td>...</td>\n",
       "    </tr>\n",
       "    <tr>\n",
       "      <th>154</th>\n",
       "      <td>Smelt</td>\n",
       "      <td>12.2</td>\n",
       "      <td>11.5</td>\n",
       "      <td>12.2</td>\n",
       "      <td>13.4</td>\n",
       "      <td>2.0904</td>\n",
       "      <td>1.3936</td>\n",
       "    </tr>\n",
       "    <tr>\n",
       "      <th>155</th>\n",
       "      <td>Smelt</td>\n",
       "      <td>13.4</td>\n",
       "      <td>11.7</td>\n",
       "      <td>12.4</td>\n",
       "      <td>13.5</td>\n",
       "      <td>2.4300</td>\n",
       "      <td>1.2690</td>\n",
       "    </tr>\n",
       "    <tr>\n",
       "      <th>156</th>\n",
       "      <td>Smelt</td>\n",
       "      <td>12.2</td>\n",
       "      <td>12.1</td>\n",
       "      <td>13.0</td>\n",
       "      <td>13.8</td>\n",
       "      <td>2.2770</td>\n",
       "      <td>1.2558</td>\n",
       "    </tr>\n",
       "    <tr>\n",
       "      <th>157</th>\n",
       "      <td>Smelt</td>\n",
       "      <td>19.7</td>\n",
       "      <td>13.2</td>\n",
       "      <td>14.3</td>\n",
       "      <td>15.2</td>\n",
       "      <td>2.8728</td>\n",
       "      <td>2.0672</td>\n",
       "    </tr>\n",
       "    <tr>\n",
       "      <th>158</th>\n",
       "      <td>Smelt</td>\n",
       "      <td>19.9</td>\n",
       "      <td>13.8</td>\n",
       "      <td>15.0</td>\n",
       "      <td>16.2</td>\n",
       "      <td>2.9322</td>\n",
       "      <td>1.8792</td>\n",
       "    </tr>\n",
       "  </tbody>\n",
       "</table>\n",
       "<p>159 rows × 7 columns</p>\n",
       "</div>"
      ],
      "text/plain": [
       "    Species  Weight  Length1  Length2  Length3   Height   Width\n",
       "0     Bream   242.0     23.2     25.4     30.0  11.5200  4.0200\n",
       "1     Bream   290.0     24.0     26.3     31.2  12.4800  4.3056\n",
       "2     Bream   340.0     23.9     26.5     31.1  12.3778  4.6961\n",
       "3     Bream   363.0     26.3     29.0     33.5  12.7300  4.4555\n",
       "4     Bream   430.0     26.5     29.0     34.0  12.4440  5.1340\n",
       "..      ...     ...      ...      ...      ...      ...     ...\n",
       "154   Smelt    12.2     11.5     12.2     13.4   2.0904  1.3936\n",
       "155   Smelt    13.4     11.7     12.4     13.5   2.4300  1.2690\n",
       "156   Smelt    12.2     12.1     13.0     13.8   2.2770  1.2558\n",
       "157   Smelt    19.7     13.2     14.3     15.2   2.8728  2.0672\n",
       "158   Smelt    19.9     13.8     15.0     16.2   2.9322  1.8792\n",
       "\n",
       "[159 rows x 7 columns]"
      ]
     },
     "execution_count": 2,
     "metadata": {},
     "output_type": "execute_result"
    }
   ],
   "source": [
    "df = pd.read_csv('CSV_files\\Fish.csv')\n",
    "df"
   ]
  },
  {
   "cell_type": "code",
   "execution_count": 3,
   "id": "5d2ad254",
   "metadata": {
    "scrolled": true
   },
   "outputs": [
    {
     "data": {
      "text/plain": [
       "Index(['Species', 'Weight', 'Length1', 'Length2', 'Length3', 'Height',\n",
       "       'Width'],\n",
       "      dtype='object')"
      ]
     },
     "execution_count": 3,
     "metadata": {},
     "output_type": "execute_result"
    }
   ],
   "source": [
    "df.columns"
   ]
  },
  {
   "cell_type": "code",
   "execution_count": 4,
   "id": "806bdd83",
   "metadata": {},
   "outputs": [
    {
     "name": "stdout",
     "output_type": "stream",
     "text": [
      "<class 'pandas.core.frame.DataFrame'>\n",
      "RangeIndex: 159 entries, 0 to 158\n",
      "Data columns (total 7 columns):\n",
      " #   Column   Non-Null Count  Dtype  \n",
      "---  ------   --------------  -----  \n",
      " 0   Species  159 non-null    object \n",
      " 1   Weight   159 non-null    float64\n",
      " 2   Length1  159 non-null    float64\n",
      " 3   Length2  159 non-null    float64\n",
      " 4   Length3  159 non-null    float64\n",
      " 5   Height   159 non-null    float64\n",
      " 6   Width    159 non-null    float64\n",
      "dtypes: float64(6), object(1)\n",
      "memory usage: 8.8+ KB\n"
     ]
    }
   ],
   "source": [
    "df.info()"
   ]
  },
  {
   "cell_type": "markdown",
   "id": "3e0ab89f",
   "metadata": {},
   "source": [
    "# Species"
   ]
  },
  {
   "cell_type": "code",
   "execution_count": 5,
   "id": "476f13e2",
   "metadata": {},
   "outputs": [
    {
     "data": {
      "text/plain": [
       "{'Perch': 56,\n",
       " 'Bream': 35,\n",
       " 'Roach': 20,\n",
       " 'Pike': 17,\n",
       " 'Smelt': 14,\n",
       " 'Parkki': 11,\n",
       " 'Whitefish': 6}"
      ]
     },
     "execution_count": 5,
     "metadata": {},
     "output_type": "execute_result"
    }
   ],
   "source": [
    "df['Species'].value_counts().to_dict()"
   ]
  },
  {
   "cell_type": "code",
   "execution_count": 6,
   "id": "22186f50",
   "metadata": {},
   "outputs": [],
   "source": [
    "df['Species'].replace({'Perch': 0,\n",
    "                         'Bream': 1,\n",
    "                         'Roach': 2,\n",
    "                         'Pike': 3,\n",
    "                         'Smelt': 4,\n",
    "                         'Parkki': 5,\n",
    "                         'Whitefish': 6}, inplace = True)"
   ]
  },
  {
   "cell_type": "code",
   "execution_count": 7,
   "id": "dc54613e",
   "metadata": {},
   "outputs": [],
   "source": [
    "x = df.drop('Weight', axis = 1)\n",
    "y = df['Weight']"
   ]
  },
  {
   "cell_type": "code",
   "execution_count": 8,
   "id": "7bf4a5fe",
   "metadata": {
    "scrolled": true
   },
   "outputs": [
    {
     "name": "stdout",
     "output_type": "stream",
     "text": [
      "********************************************************************************\n",
      "Training Evaluation\n",
      "\n",
      "mse: 14392.739597554897\n",
      "rmse: 119.96974450900068\n",
      "mae : 89.0314053596188\n",
      "r_squared : 0.8859687170863504\n",
      "********************************************************************************\n",
      "Testing Evaluation\n",
      "\n",
      "mse: 14743.484853333823\n",
      "rmse: 121.4227526180074\n",
      "mae : 95.01543086287558\n",
      "r_squared : 0.8869255714602403\n"
     ]
    }
   ],
   "source": [
    "x_train, x_test, y_train, y_test = train_test_split(x,y, test_size = 0.25, random_state = 42)\n",
    "lin_reg = LinearRegression()\n",
    "lin_reg.fit(x_train.values, y_train.values)\n",
    "\n",
    "print(\"*\"*80)\n",
    "print(\"Training Evaluation\\n\")\n",
    "y_pred_train = lin_reg.predict(x_train.values)\n",
    "mse = mean_squared_error(y_train, y_pred_train)\n",
    "print(\"mse:\", mse)\n",
    "\n",
    "rmse = np.sqrt(mse)\n",
    "print(\"rmse:\", rmse)\n",
    "\n",
    "mae = mean_absolute_error(y_train , y_pred_train)\n",
    "print('mae :', mae)\n",
    "\n",
    "r_squared = r2_score(y_train , y_pred_train)\n",
    "print('r_squared :', r_squared)\n",
    "\n",
    "print(\"*\"*80)\n",
    "print(\"Testing Evaluation\\n\")\n",
    "y_pred_test = lin_reg.predict(x_test.values)\n",
    "\n",
    "mse = mean_squared_error(y_test, y_pred_test)\n",
    "print(\"mse:\", mse)\n",
    "\n",
    "rmse = np.sqrt(mse)\n",
    "print(\"rmse:\", rmse)\n",
    "\n",
    "mae = mean_absolute_error(y_test, y_pred_test)\n",
    "print('mae :', mae)\n",
    "\n",
    "r_squared = r2_score(y_test, y_pred_test)\n",
    "print('r_squared :', r_squared)"
   ]
  },
  {
   "cell_type": "markdown",
   "id": "044359de",
   "metadata": {},
   "source": [
    "# Project_data"
   ]
  },
  {
   "cell_type": "code",
   "execution_count": 9,
   "id": "13c24f9a",
   "metadata": {},
   "outputs": [
    {
     "data": {
      "text/plain": [
       "{'Species': {'Perch': 0,\n",
       "  'Bream': 1,\n",
       "  'Roach': 2,\n",
       "  'Pike': 3,\n",
       "  'Smelt': 4,\n",
       "  'Parkki': 5,\n",
       "  'Whitefish': 6},\n",
       " 'Columns': ['Species', 'Length1', 'Length2', 'Length3', 'Height', 'Width']}"
      ]
     },
     "execution_count": 9,
     "metadata": {},
     "output_type": "execute_result"
    }
   ],
   "source": [
    "project_data = {'Species': {'Perch': 0,'Bream': 1,'Roach': 2,'Pike': 3,'Smelt': 4,'Parkki': 5,'Whitefish': 6},\n",
    "               'Columns': x.columns.tolist()}\n",
    "\n",
    "project_data"
   ]
  },
  {
   "cell_type": "markdown",
   "id": "dc2fc443",
   "metadata": {},
   "source": [
    "# Test user input Function"
   ]
  },
  {
   "cell_type": "code",
   "execution_count": 10,
   "id": "98206613",
   "metadata": {},
   "outputs": [
    {
     "name": "stdout",
     "output_type": "stream",
     "text": [
      "498.352\n"
     ]
    }
   ],
   "source": [
    "Species = 'Bream'\n",
    "Length1 = 25\n",
    "Length2 = 27\n",
    "Length3 = 28\n",
    "Height = 12.2\n",
    "Width = 4.50\n",
    "\n",
    "Species = project_data['Species'][Species]\n",
    "\n",
    "test_array = np.zeros(len(project_data['Columns']))\n",
    "\n",
    "test_array[0] = Species\n",
    "test_array[1] = Length1\n",
    "test_array[2] = Length2\n",
    "test_array[3] = Length3\n",
    "test_array[4] = Height\n",
    "test_array[5] = Width\n",
    "\n",
    "predicted_weight = np.around(lin_reg.predict([test_array]), 3)[0]\n",
    "print(predicted_weight)"
   ]
  },
  {
   "cell_type": "markdown",
   "id": "02d15172",
   "metadata": {},
   "source": [
    "# MODEL_FILE"
   ]
  },
  {
   "cell_type": "code",
   "execution_count": 11,
   "id": "b7101e4e",
   "metadata": {},
   "outputs": [],
   "source": [
    "import pickle\n",
    "import json\n",
    "\n",
    "\n",
    "with open('Linear_reg.pkl', 'wb') as f:\n",
    "    pickle.dump(lin_reg, f)"
   ]
  },
  {
   "cell_type": "markdown",
   "id": "a8967296",
   "metadata": {},
   "source": [
    "# PROJECT_DATA_FILE"
   ]
  },
  {
   "cell_type": "code",
   "execution_count": 12,
   "id": "76257a66",
   "metadata": {},
   "outputs": [],
   "source": [
    "with open('Fish_project_data.json', 'w') as f:\n",
    "    json.dump(project_data, f)"
   ]
  },
  {
   "cell_type": "code",
   "execution_count": 1,
   "id": "a1d1b942",
   "metadata": {
    "collapsed": true
   },
   "outputs": [
    {
     "data": {
      "text/plain": [
       "['1st block jayanagar',\n",
       " '1st phase jp nagar',\n",
       " '2nd phase judicial layout',\n",
       " '2nd stage nagarbhavi',\n",
       " '5th block hbr layout',\n",
       " '5th phase jp nagar',\n",
       " '6th phase jp nagar',\n",
       " '7th phase jp nagar',\n",
       " '8th phase jp nagar',\n",
       " '9th phase jp nagar',\n",
       " 'aecs layout',\n",
       " 'abbigere',\n",
       " 'akshaya nagar',\n",
       " 'ambalipura',\n",
       " 'ambedkar nagar',\n",
       " 'amruthahalli',\n",
       " 'anandapura',\n",
       " 'ananth nagar',\n",
       " 'anekal',\n",
       " 'anjanapura',\n",
       " 'ardendale',\n",
       " 'arekere',\n",
       " 'attibele',\n",
       " 'beml layout',\n",
       " 'btm 2nd stage',\n",
       " 'btm layout',\n",
       " 'babusapalaya',\n",
       " 'badavala nagar',\n",
       " 'balagere',\n",
       " 'banashankari',\n",
       " 'banashankari stage ii',\n",
       " 'banashankari stage iii',\n",
       " 'banashankari stage v',\n",
       " 'banashankari stage vi',\n",
       " 'banaswadi',\n",
       " 'banjara layout',\n",
       " 'bannerghatta',\n",
       " 'bannerghatta road',\n",
       " 'basavangudi',\n",
       " 'basaveshwara nagar',\n",
       " 'battarahalli',\n",
       " 'begur',\n",
       " 'begur road',\n",
       " 'bellandur',\n",
       " 'benson town',\n",
       " 'bharathi nagar',\n",
       " 'bhoganhalli',\n",
       " 'billekahalli',\n",
       " 'binny pete',\n",
       " 'bisuvanahalli',\n",
       " 'bommanahalli',\n",
       " 'bommasandra',\n",
       " 'bommasandra industrial area',\n",
       " 'bommenahalli',\n",
       " 'brookefield',\n",
       " 'budigere',\n",
       " 'cv raman nagar',\n",
       " 'chamrajpet',\n",
       " 'chandapura',\n",
       " 'channasandra',\n",
       " 'chikka tirupathi',\n",
       " 'chikkabanavar',\n",
       " 'chikkalasandra',\n",
       " 'choodasandra',\n",
       " 'cooke town',\n",
       " 'cox town',\n",
       " 'cunningham road',\n",
       " 'dasanapura',\n",
       " 'dasarahalli',\n",
       " 'devanahalli',\n",
       " 'devarachikkanahalli',\n",
       " 'dodda nekkundi',\n",
       " 'doddaballapur',\n",
       " 'doddakallasandra',\n",
       " 'doddathoguru',\n",
       " 'domlur',\n",
       " 'dommasandra',\n",
       " 'epip zone',\n",
       " 'electronic city',\n",
       " 'electronic city phase ii',\n",
       " 'electronics city phase 1',\n",
       " 'frazer town',\n",
       " 'gm palaya',\n",
       " 'garudachar palya',\n",
       " 'giri nagar',\n",
       " 'gollarapalya hosahalli',\n",
       " 'gottigere',\n",
       " 'green glen layout',\n",
       " 'gubbalala',\n",
       " 'gunjur',\n",
       " 'hal 2nd stage',\n",
       " 'hbr layout',\n",
       " 'hrbr layout',\n",
       " 'hsr layout',\n",
       " 'haralur road',\n",
       " 'harlur',\n",
       " 'hebbal',\n",
       " 'hebbal kempapura',\n",
       " 'hegde nagar',\n",
       " 'hennur',\n",
       " 'hennur road',\n",
       " 'hoodi',\n",
       " 'horamavu agara',\n",
       " 'horamavu banaswadi',\n",
       " 'hormavu',\n",
       " 'hosa road',\n",
       " 'hosakerehalli',\n",
       " 'hoskote',\n",
       " 'hosur road',\n",
       " 'hulimavu',\n",
       " 'isro layout',\n",
       " 'itpl',\n",
       " 'iblur village',\n",
       " 'indira nagar',\n",
       " 'jp nagar',\n",
       " 'jakkur',\n",
       " 'jalahalli',\n",
       " 'jalahalli east',\n",
       " 'jigani',\n",
       " 'judicial layout',\n",
       " 'kr puram',\n",
       " 'kadubeesanahalli',\n",
       " 'kadugodi',\n",
       " 'kaggadasapura',\n",
       " 'kaggalipura',\n",
       " 'kaikondrahalli',\n",
       " 'kalena agrahara',\n",
       " 'kalyan nagar',\n",
       " 'kambipura',\n",
       " 'kammanahalli',\n",
       " 'kammasandra',\n",
       " 'kanakapura',\n",
       " 'kanakpura road',\n",
       " 'kannamangala',\n",
       " 'karuna nagar',\n",
       " 'kasavanhalli',\n",
       " 'kasturi nagar',\n",
       " 'kathriguppe',\n",
       " 'kaval byrasandra',\n",
       " 'kenchenahalli',\n",
       " 'kengeri',\n",
       " 'kengeri satellite town',\n",
       " 'kereguddadahalli',\n",
       " 'kodichikkanahalli',\n",
       " 'kodigehaali',\n",
       " 'kodigehalli',\n",
       " 'kodihalli',\n",
       " 'kogilu',\n",
       " 'konanakunte',\n",
       " 'koramangala',\n",
       " 'kothannur',\n",
       " 'kothanur',\n",
       " 'kudlu',\n",
       " 'kudlu gate',\n",
       " 'kumaraswami layout',\n",
       " 'kundalahalli',\n",
       " 'lb shastri nagar',\n",
       " 'laggere',\n",
       " 'lakshminarayana pura',\n",
       " 'lingadheeranahalli',\n",
       " 'magadi road',\n",
       " 'mahadevpura',\n",
       " 'mahalakshmi layout',\n",
       " 'mallasandra',\n",
       " 'malleshpalya',\n",
       " 'malleshwaram',\n",
       " 'marathahalli',\n",
       " 'margondanahalli',\n",
       " 'marsur',\n",
       " 'mico layout',\n",
       " 'munnekollal',\n",
       " 'murugeshpalya',\n",
       " 'mysore road',\n",
       " 'ngr layout',\n",
       " 'nri layout',\n",
       " 'nagarbhavi',\n",
       " 'nagasandra',\n",
       " 'nagavara',\n",
       " 'nagavarapalya',\n",
       " 'narayanapura',\n",
       " 'neeladri nagar',\n",
       " 'nehru nagar',\n",
       " 'ombr layout',\n",
       " 'old airport road',\n",
       " 'old madras road',\n",
       " 'padmanabhanagar',\n",
       " 'pai layout',\n",
       " 'panathur',\n",
       " 'parappana agrahara',\n",
       " 'pattandur agrahara',\n",
       " 'poorna pragna layout',\n",
       " 'prithvi layout',\n",
       " 'r.t. nagar',\n",
       " 'rachenahalli',\n",
       " 'raja rajeshwari nagar',\n",
       " 'rajaji nagar',\n",
       " 'rajiv nagar',\n",
       " 'ramagondanahalli',\n",
       " 'ramamurthy nagar',\n",
       " 'rayasandra',\n",
       " 'sahakara nagar',\n",
       " 'sanjay nagar',\n",
       " 'sarakki nagar',\n",
       " 'sarjapur',\n",
       " 'sarjapur  road',\n",
       " 'sarjapura - attibele road',\n",
       " 'sector 2 hsr layout',\n",
       " 'sector 7 hsr layout',\n",
       " 'seegehalli',\n",
       " 'shampura',\n",
       " 'shivaji nagar',\n",
       " 'singasandra',\n",
       " 'somasundara palya',\n",
       " 'sompura',\n",
       " 'sonnenahalli',\n",
       " 'subramanyapura',\n",
       " 'sultan palaya',\n",
       " 'tc palaya',\n",
       " 'talaghattapura',\n",
       " 'thanisandra',\n",
       " 'thigalarapalya',\n",
       " 'thubarahalli',\n",
       " 'tindlu',\n",
       " 'tumkur road',\n",
       " 'ulsoor',\n",
       " 'uttarahalli',\n",
       " 'varthur',\n",
       " 'varthur road',\n",
       " 'vasanthapura',\n",
       " 'vidyaranyapura',\n",
       " 'vijayanagar',\n",
       " 'vishveshwarya layout',\n",
       " 'vishwapriya layout',\n",
       " 'vittasandra',\n",
       " 'whitefield',\n",
       " 'yelachenahalli',\n",
       " 'yelahanka',\n",
       " 'yelahanka new town',\n",
       " 'yelenahalli',\n",
       " 'yeshwanthpur']"
      ]
     },
     "execution_count": 1,
     "metadata": {},
     "output_type": "execute_result"
    }
   ],
   "source": [
    "\n",
    "dict1 = {\"data_columns\": [\"total_sqft\", \"bath\", \"bhk\", \"1st block jayanagar\", \"1st phase jp nagar\", \"2nd phase judicial layout\", \"2nd stage nagarbhavi\", \"5th block hbr layout\", \"5th phase jp nagar\", \"6th phase jp nagar\", \"7th phase jp nagar\", \"8th phase jp nagar\", \"9th phase jp nagar\", \"aecs layout\", \"abbigere\", \"akshaya nagar\", \"ambalipura\", \"ambedkar nagar\", \"amruthahalli\", \"anandapura\", \"ananth nagar\", \"anekal\", \"anjanapura\", \"ardendale\", \"arekere\", \"attibele\", \"beml layout\", \"btm 2nd stage\", \"btm layout\", \"babusapalaya\", \"badavala nagar\", \"balagere\", \"banashankari\", \"banashankari stage ii\", \"banashankari stage iii\", \"banashankari stage v\", \"banashankari stage vi\", \"banaswadi\", \"banjara layout\", \"bannerghatta\", \"bannerghatta road\", \"basavangudi\", \"basaveshwara nagar\", \"battarahalli\", \"begur\", \"begur road\", \"bellandur\", \"benson town\", \"bharathi nagar\", \"bhoganhalli\", \"billekahalli\", \"binny pete\", \"bisuvanahalli\", \"bommanahalli\", \"bommasandra\", \"bommasandra industrial area\", \"bommenahalli\", \"brookefield\", \"budigere\", \"cv raman nagar\", \"chamrajpet\", \"chandapura\", \"channasandra\", \"chikka tirupathi\", \"chikkabanavar\", \"chikkalasandra\", \"choodasandra\", \"cooke town\", \"cox town\", \"cunningham road\", \"dasanapura\", \"dasarahalli\", \"devanahalli\", \"devarachikkanahalli\", \"dodda nekkundi\", \"doddaballapur\", \"doddakallasandra\", \"doddathoguru\", \"domlur\", \"dommasandra\", \"epip zone\", \"electronic city\", \"electronic city phase ii\", \"electronics city phase 1\", \"frazer town\", \"gm palaya\", \"garudachar palya\", \"giri nagar\", \"gollarapalya hosahalli\", \"gottigere\", \"green glen layout\", \"gubbalala\", \"gunjur\", \"hal 2nd stage\", \"hbr layout\", \"hrbr layout\", \"hsr layout\", \"haralur road\", \"harlur\", \"hebbal\", \"hebbal kempapura\", \"hegde nagar\", \"hennur\", \"hennur road\", \"hoodi\", \"horamavu agara\", \"horamavu banaswadi\", \"hormavu\", \"hosa road\", \"hosakerehalli\", \"hoskote\", \"hosur road\", \"hulimavu\", \"isro layout\", \"itpl\", \"iblur village\", \"indira nagar\", \"jp nagar\", \"jakkur\", \"jalahalli\", \"jalahalli east\", \"jigani\", \"judicial layout\", \"kr puram\", \"kadubeesanahalli\", \"kadugodi\", \"kaggadasapura\", \"kaggalipura\", \"kaikondrahalli\", \"kalena agrahara\", \"kalyan nagar\", \"kambipura\", \"kammanahalli\", \"kammasandra\", \"kanakapura\", \"kanakpura road\", \"kannamangala\", \"karuna nagar\", \"kasavanhalli\", \"kasturi nagar\", \"kathriguppe\", \"kaval byrasandra\", \"kenchenahalli\", \"kengeri\", \"kengeri satellite town\", \"kereguddadahalli\", \"kodichikkanahalli\", \"kodigehaali\", \"kodigehalli\", \"kodihalli\", \"kogilu\", \"konanakunte\", \"koramangala\", \"kothannur\", \"kothanur\", \"kudlu\", \"kudlu gate\", \"kumaraswami layout\", \"kundalahalli\", \"lb shastri nagar\", \"laggere\", \"lakshminarayana pura\", \"lingadheeranahalli\", \"magadi road\", \"mahadevpura\", \"mahalakshmi layout\", \"mallasandra\", \"malleshpalya\", \"malleshwaram\", \"marathahalli\", \"margondanahalli\", \"marsur\", \"mico layout\", \"munnekollal\", \"murugeshpalya\", \"mysore road\", \"ngr layout\", \"nri layout\", \"nagarbhavi\", \"nagasandra\", \"nagavara\", \"nagavarapalya\", \"narayanapura\", \"neeladri nagar\", \"nehru nagar\", \"ombr layout\", \"old airport road\", \"old madras road\", \"padmanabhanagar\", \"pai layout\", \"panathur\", \"parappana agrahara\", \"pattandur agrahara\", \"poorna pragna layout\", \"prithvi layout\", \"r.t. nagar\", \"rachenahalli\", \"raja rajeshwari nagar\", \"rajaji nagar\", \"rajiv nagar\", \"ramagondanahalli\", \"ramamurthy nagar\", \"rayasandra\", \"sahakara nagar\", \"sanjay nagar\", \"sarakki nagar\", \"sarjapur\", \"sarjapur  road\", \"sarjapura - attibele road\", \"sector 2 hsr layout\", \"sector 7 hsr layout\", \"seegehalli\", \"shampura\", \"shivaji nagar\", \"singasandra\", \"somasundara palya\", \"sompura\", \"sonnenahalli\", \"subramanyapura\", \"sultan palaya\", \"tc palaya\", \"talaghattapura\", \"thanisandra\", \"thigalarapalya\", \"thubarahalli\", \"tindlu\", \"tumkur road\", \"ulsoor\", \"uttarahalli\", \"varthur\", \"varthur road\", \"vasanthapura\", \"vidyaranyapura\", \"vijayanagar\", \"vishveshwarya layout\", \"vishwapriya layout\", \"vittasandra\", \"whitefield\", \"yelachenahalli\", \"yelahanka\", \"yelahanka new town\", \"yelenahalli\", \"yeshwanthpu"
   ]
  },
  {
   "cell_type": "code",
   "execution_count": 5,
   "id": "d38a3db9",
   "metadata": {},
   "outputs": [
    {
     "data": {
      "text/plain": [
       "dict_keys"
      ]
     },
     "execution_count": 5,
     "metadata": {},
     "output_type": "execute_result"
    }
   ],
   "source": [
    "dict1 = {\"Species\": {\"Perch\": 0, \"Bream\": 1, \"Roach\": 2, \"Pike\": 3, \"Smelt\": 4, \"Parkki\": 5, \"Whitefish\": 6}, \"Columns\": [\"Species\", \"Length1\", \"Length2\", \"Length3\", \"Height\", \"Width\"]}\n",
    "\n",
    "var = dict1['Species'].keys()\n",
    "var\n",
    "type(var)\n",
    "\n"
   ]
  },
  {
   "cell_type": "code",
   "execution_count": null,
   "id": "6ebfce42",
   "metadata": {},
   "outputs": [],
   "source": []
  }
 ],
 "metadata": {
  "kernelspec": {
   "display_name": "Python 3",
   "language": "python",
   "name": "python3"
  },
  "language_info": {
   "codemirror_mode": {
    "name": "ipython",
    "version": 3
   },
   "file_extension": ".py",
   "mimetype": "text/x-python",
   "name": "python",
   "nbconvert_exporter": "python",
   "pygments_lexer": "ipython3",
   "version": "3.10.7 (tags/v3.10.7:6cc6b13, Sep  5 2022, 14:08:36) [MSC v.1933 64 bit (AMD64)]"
  },
  "vscode": {
   "interpreter": {
    "hash": "b5cb117d60429914aae19d8f51f134cafe919d9700db8b86e65151d9fcb7e517"
   }
  }
 },
 "nbformat": 4,
 "nbformat_minor": 5
}
